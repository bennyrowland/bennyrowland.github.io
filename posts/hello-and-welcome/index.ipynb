{
 "cells": [
  {
   "cell_type": "markdown",
   "metadata": {},
   "source": [
    "Like most of the other researchers I know, I spend a lot of my time writing code, or reading other people's. But, again like most of my fellows, a lack of formal training, combined with the absence of any development infrastructure in the lab, tends to produce a lot of bad habits like code duplication, re-inventing the wheel and lack of comments."
   ]
  },
  {
   "cell_type": "markdown",
   "metadata": {},
   "source": [
    "I have spent the last six months converting much of the code I have produced during my research career to date from a messy accumulation of scripts and snippets into [Suspect](https://github.com/openmrslab/suspect), an open-source Python package with documentation, unit tests and even meaningful commit messages! Along the way I have also picked up some odds and ends about continuous integration, automated deployment and containerisation, among other things from the DevOps world."
   ]
  },
  {
   "cell_type": "markdown",
   "metadata": {},
   "source": [
    "The journey is far from over, but in the hope that it might be useful for others, or at least as a [favour to my future self](http://www.commitstrip.com/en/2016/01/18/what-idiot-wrote-this-code/), I am going to be writing about some of the things I have learned."
   ]
  }
 ],
 "metadata": {
  "kernelspec": {
   "display_name": "Python 3",
   "language": "python",
   "name": "python3"
  },
  "language_info": {
   "codemirror_mode": {
    "name": "ipython",
    "version": 3
   },
   "file_extension": ".py",
   "mimetype": "text/x-python",
   "name": "python",
   "nbconvert_exporter": "python",
   "pygments_lexer": "ipython3",
   "version": "3.5.1"
  },
  "nikola": {
   "category": "",
   "date": "2016-09-27 20:11:53 UTC",
   "description": "",
   "link": "",
   "slug": "hello-and-welcome",
   "tags": "",
   "title": "Hello and Welcome",
   "type": "text"
  },
  "widgets": {
   "state": {},
   "version": "1.1.2"
  }
 },
 "nbformat": 4,
 "nbformat_minor": 0
}
