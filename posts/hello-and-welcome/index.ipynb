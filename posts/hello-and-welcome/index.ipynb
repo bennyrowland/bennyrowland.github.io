{
 "cells": [
  {
   "cell_type": "markdown",
   "metadata": {},
   "source": [
    "Write your post here."
   ]
  }
 ],
 "metadata": {
  "kernelspec": {
   "display_name": "Python 3",
   "env": {},
   "language": "python",
   "name": "python3"
  },
  "nikola": {
   "category": "",
   "date": "2016-09-27 20:11:53 UTC",
   "description": "",
   "link": "",
   "slug": "hello-and-welcome",
   "tags": "",
   "title": "Hello and Welcome",
   "type": "text"
  }
 },
 "nbformat": 4,
 "nbformat_minor": 0
}
